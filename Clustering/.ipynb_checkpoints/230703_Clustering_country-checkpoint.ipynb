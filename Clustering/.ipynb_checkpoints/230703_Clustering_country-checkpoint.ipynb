{
 "cells": [
  {
   "cell_type": "code",
   "execution_count": 1,
   "id": "f4e98f94",
   "metadata": {},
   "outputs": [],
   "source": [
    "import numpy as np\n",
    "import pandas as pd\n",
    "import matplotlib.pyplot as plt\n",
    "import seaborn as sns\n",
    "from sklearn.cluster import KMeans\n",
    "from sklearn.metrics import silhouette_score"
   ]
  },
  {
   "cell_type": "markdown",
   "id": "008a3397",
   "metadata": {},
   "source": [
    "data from below link:\n",
    "https://www.kaggle.com/datasets/rohan0301/unsupervised-learning-on-country-data"
   ]
  },
  {
   "cell_type": "code",
   "execution_count": 2,
   "id": "8d63c5a8",
   "metadata": {},
   "outputs": [],
   "source": [
    "df = pd.read_csv('Country-data.csv')"
   ]
  },
  {
   "cell_type": "code",
   "execution_count": 3,
   "id": "7656e8fc",
   "metadata": {},
   "outputs": [
    {
     "name": "stdout",
     "output_type": "stream",
     "text": [
      "<class 'pandas.core.frame.DataFrame'>\n",
      "RangeIndex: 167 entries, 0 to 166\n",
      "Data columns (total 10 columns):\n",
      " #   Column      Non-Null Count  Dtype  \n",
      "---  ------      --------------  -----  \n",
      " 0   country     167 non-null    object \n",
      " 1   child_mort  167 non-null    float64\n",
      " 2   exports     167 non-null    float64\n",
      " 3   health      167 non-null    float64\n",
      " 4   imports     167 non-null    float64\n",
      " 5   income      167 non-null    int64  \n",
      " 6   inflation   167 non-null    float64\n",
      " 7   life_expec  167 non-null    float64\n",
      " 8   total_fer   167 non-null    float64\n",
      " 9   gdpp        167 non-null    int64  \n",
      "dtypes: float64(7), int64(2), object(1)\n",
      "memory usage: 13.2+ KB\n"
     ]
    }
   ],
   "source": [
    "df.info()"
   ]
  },
  {
   "cell_type": "code",
   "execution_count": 4,
   "id": "524a5a01",
   "metadata": {},
   "outputs": [
    {
     "data": {
      "text/html": [
       "<div>\n",
       "<style scoped>\n",
       "    .dataframe tbody tr th:only-of-type {\n",
       "        vertical-align: middle;\n",
       "    }\n",
       "\n",
       "    .dataframe tbody tr th {\n",
       "        vertical-align: top;\n",
       "    }\n",
       "\n",
       "    .dataframe thead th {\n",
       "        text-align: right;\n",
       "    }\n",
       "</style>\n",
       "<table border=\"1\" class=\"dataframe\">\n",
       "  <thead>\n",
       "    <tr style=\"text-align: right;\">\n",
       "      <th></th>\n",
       "      <th>country</th>\n",
       "      <th>child_mort</th>\n",
       "      <th>exports</th>\n",
       "      <th>health</th>\n",
       "      <th>imports</th>\n",
       "      <th>income</th>\n",
       "      <th>inflation</th>\n",
       "      <th>life_expec</th>\n",
       "      <th>total_fer</th>\n",
       "      <th>gdpp</th>\n",
       "    </tr>\n",
       "  </thead>\n",
       "  <tbody>\n",
       "    <tr>\n",
       "      <th>0</th>\n",
       "      <td>Afghanistan</td>\n",
       "      <td>90.2</td>\n",
       "      <td>10.0</td>\n",
       "      <td>7.58</td>\n",
       "      <td>44.9</td>\n",
       "      <td>1610</td>\n",
       "      <td>9.44</td>\n",
       "      <td>56.2</td>\n",
       "      <td>5.82</td>\n",
       "      <td>553</td>\n",
       "    </tr>\n",
       "    <tr>\n",
       "      <th>1</th>\n",
       "      <td>Albania</td>\n",
       "      <td>16.6</td>\n",
       "      <td>28.0</td>\n",
       "      <td>6.55</td>\n",
       "      <td>48.6</td>\n",
       "      <td>9930</td>\n",
       "      <td>4.49</td>\n",
       "      <td>76.3</td>\n",
       "      <td>1.65</td>\n",
       "      <td>4090</td>\n",
       "    </tr>\n",
       "    <tr>\n",
       "      <th>2</th>\n",
       "      <td>Algeria</td>\n",
       "      <td>27.3</td>\n",
       "      <td>38.4</td>\n",
       "      <td>4.17</td>\n",
       "      <td>31.4</td>\n",
       "      <td>12900</td>\n",
       "      <td>16.10</td>\n",
       "      <td>76.5</td>\n",
       "      <td>2.89</td>\n",
       "      <td>4460</td>\n",
       "    </tr>\n",
       "    <tr>\n",
       "      <th>3</th>\n",
       "      <td>Angola</td>\n",
       "      <td>119.0</td>\n",
       "      <td>62.3</td>\n",
       "      <td>2.85</td>\n",
       "      <td>42.9</td>\n",
       "      <td>5900</td>\n",
       "      <td>22.40</td>\n",
       "      <td>60.1</td>\n",
       "      <td>6.16</td>\n",
       "      <td>3530</td>\n",
       "    </tr>\n",
       "    <tr>\n",
       "      <th>4</th>\n",
       "      <td>Antigua and Barbuda</td>\n",
       "      <td>10.3</td>\n",
       "      <td>45.5</td>\n",
       "      <td>6.03</td>\n",
       "      <td>58.9</td>\n",
       "      <td>19100</td>\n",
       "      <td>1.44</td>\n",
       "      <td>76.8</td>\n",
       "      <td>2.13</td>\n",
       "      <td>12200</td>\n",
       "    </tr>\n",
       "  </tbody>\n",
       "</table>\n",
       "</div>"
      ],
      "text/plain": [
       "               country  child_mort  exports  health  imports  income  \\\n",
       "0          Afghanistan        90.2     10.0    7.58     44.9    1610   \n",
       "1              Albania        16.6     28.0    6.55     48.6    9930   \n",
       "2              Algeria        27.3     38.4    4.17     31.4   12900   \n",
       "3               Angola       119.0     62.3    2.85     42.9    5900   \n",
       "4  Antigua and Barbuda        10.3     45.5    6.03     58.9   19100   \n",
       "\n",
       "   inflation  life_expec  total_fer   gdpp  \n",
       "0       9.44        56.2       5.82    553  \n",
       "1       4.49        76.3       1.65   4090  \n",
       "2      16.10        76.5       2.89   4460  \n",
       "3      22.40        60.1       6.16   3530  \n",
       "4       1.44        76.8       2.13  12200  "
      ]
     },
     "execution_count": 4,
     "metadata": {},
     "output_type": "execute_result"
    }
   ],
   "source": [
    "df.head()"
   ]
  },
  {
   "cell_type": "code",
   "execution_count": 5,
   "id": "f5d39b34",
   "metadata": {},
   "outputs": [
    {
     "data": {
      "text/html": [
       "<div>\n",
       "<style scoped>\n",
       "    .dataframe tbody tr th:only-of-type {\n",
       "        vertical-align: middle;\n",
       "    }\n",
       "\n",
       "    .dataframe tbody tr th {\n",
       "        vertical-align: top;\n",
       "    }\n",
       "\n",
       "    .dataframe thead th {\n",
       "        text-align: right;\n",
       "    }\n",
       "</style>\n",
       "<table border=\"1\" class=\"dataframe\">\n",
       "  <thead>\n",
       "    <tr style=\"text-align: right;\">\n",
       "      <th></th>\n",
       "      <th>child_mort</th>\n",
       "      <th>exports</th>\n",
       "      <th>health</th>\n",
       "      <th>imports</th>\n",
       "      <th>income</th>\n",
       "      <th>inflation</th>\n",
       "      <th>life_expec</th>\n",
       "      <th>total_fer</th>\n",
       "      <th>gdpp</th>\n",
       "    </tr>\n",
       "  </thead>\n",
       "  <tbody>\n",
       "    <tr>\n",
       "      <th>count</th>\n",
       "      <td>167.000000</td>\n",
       "      <td>167.000000</td>\n",
       "      <td>167.000000</td>\n",
       "      <td>167.000000</td>\n",
       "      <td>167.000000</td>\n",
       "      <td>167.000000</td>\n",
       "      <td>167.000000</td>\n",
       "      <td>167.000000</td>\n",
       "      <td>167.000000</td>\n",
       "    </tr>\n",
       "    <tr>\n",
       "      <th>mean</th>\n",
       "      <td>38.270060</td>\n",
       "      <td>41.108976</td>\n",
       "      <td>6.815689</td>\n",
       "      <td>46.890215</td>\n",
       "      <td>17144.688623</td>\n",
       "      <td>7.781832</td>\n",
       "      <td>70.555689</td>\n",
       "      <td>2.947964</td>\n",
       "      <td>12964.155689</td>\n",
       "    </tr>\n",
       "    <tr>\n",
       "      <th>std</th>\n",
       "      <td>40.328931</td>\n",
       "      <td>27.412010</td>\n",
       "      <td>2.746837</td>\n",
       "      <td>24.209589</td>\n",
       "      <td>19278.067698</td>\n",
       "      <td>10.570704</td>\n",
       "      <td>8.893172</td>\n",
       "      <td>1.513848</td>\n",
       "      <td>18328.704809</td>\n",
       "    </tr>\n",
       "    <tr>\n",
       "      <th>min</th>\n",
       "      <td>2.600000</td>\n",
       "      <td>0.109000</td>\n",
       "      <td>1.810000</td>\n",
       "      <td>0.065900</td>\n",
       "      <td>609.000000</td>\n",
       "      <td>-4.210000</td>\n",
       "      <td>32.100000</td>\n",
       "      <td>1.150000</td>\n",
       "      <td>231.000000</td>\n",
       "    </tr>\n",
       "    <tr>\n",
       "      <th>25%</th>\n",
       "      <td>8.250000</td>\n",
       "      <td>23.800000</td>\n",
       "      <td>4.920000</td>\n",
       "      <td>30.200000</td>\n",
       "      <td>3355.000000</td>\n",
       "      <td>1.810000</td>\n",
       "      <td>65.300000</td>\n",
       "      <td>1.795000</td>\n",
       "      <td>1330.000000</td>\n",
       "    </tr>\n",
       "    <tr>\n",
       "      <th>50%</th>\n",
       "      <td>19.300000</td>\n",
       "      <td>35.000000</td>\n",
       "      <td>6.320000</td>\n",
       "      <td>43.300000</td>\n",
       "      <td>9960.000000</td>\n",
       "      <td>5.390000</td>\n",
       "      <td>73.100000</td>\n",
       "      <td>2.410000</td>\n",
       "      <td>4660.000000</td>\n",
       "    </tr>\n",
       "    <tr>\n",
       "      <th>75%</th>\n",
       "      <td>62.100000</td>\n",
       "      <td>51.350000</td>\n",
       "      <td>8.600000</td>\n",
       "      <td>58.750000</td>\n",
       "      <td>22800.000000</td>\n",
       "      <td>10.750000</td>\n",
       "      <td>76.800000</td>\n",
       "      <td>3.880000</td>\n",
       "      <td>14050.000000</td>\n",
       "    </tr>\n",
       "    <tr>\n",
       "      <th>max</th>\n",
       "      <td>208.000000</td>\n",
       "      <td>200.000000</td>\n",
       "      <td>17.900000</td>\n",
       "      <td>174.000000</td>\n",
       "      <td>125000.000000</td>\n",
       "      <td>104.000000</td>\n",
       "      <td>82.800000</td>\n",
       "      <td>7.490000</td>\n",
       "      <td>105000.000000</td>\n",
       "    </tr>\n",
       "  </tbody>\n",
       "</table>\n",
       "</div>"
      ],
      "text/plain": [
       "       child_mort     exports      health     imports         income  \\\n",
       "count  167.000000  167.000000  167.000000  167.000000     167.000000   \n",
       "mean    38.270060   41.108976    6.815689   46.890215   17144.688623   \n",
       "std     40.328931   27.412010    2.746837   24.209589   19278.067698   \n",
       "min      2.600000    0.109000    1.810000    0.065900     609.000000   \n",
       "25%      8.250000   23.800000    4.920000   30.200000    3355.000000   \n",
       "50%     19.300000   35.000000    6.320000   43.300000    9960.000000   \n",
       "75%     62.100000   51.350000    8.600000   58.750000   22800.000000   \n",
       "max    208.000000  200.000000   17.900000  174.000000  125000.000000   \n",
       "\n",
       "        inflation  life_expec   total_fer           gdpp  \n",
       "count  167.000000  167.000000  167.000000     167.000000  \n",
       "mean     7.781832   70.555689    2.947964   12964.155689  \n",
       "std     10.570704    8.893172    1.513848   18328.704809  \n",
       "min     -4.210000   32.100000    1.150000     231.000000  \n",
       "25%      1.810000   65.300000    1.795000    1330.000000  \n",
       "50%      5.390000   73.100000    2.410000    4660.000000  \n",
       "75%     10.750000   76.800000    3.880000   14050.000000  \n",
       "max    104.000000   82.800000    7.490000  105000.000000  "
      ]
     },
     "execution_count": 5,
     "metadata": {},
     "output_type": "execute_result"
    }
   ],
   "source": [
    "df.describe()"
   ]
  },
  {
   "cell_type": "code",
   "execution_count": 6,
   "id": "4631d260",
   "metadata": {},
   "outputs": [
    {
     "data": {
      "text/plain": [
       "country       0\n",
       "child_mort    0\n",
       "exports       0\n",
       "health        0\n",
       "imports       0\n",
       "income        0\n",
       "inflation     0\n",
       "life_expec    0\n",
       "total_fer     0\n",
       "gdpp          0\n",
       "dtype: int64"
      ]
     },
     "execution_count": 6,
     "metadata": {},
     "output_type": "execute_result"
    }
   ],
   "source": [
    "df.isna().sum()"
   ]
  },
  {
   "cell_type": "code",
   "execution_count": 7,
   "id": "d97ec131",
   "metadata": {},
   "outputs": [
    {
     "data": {
      "text/plain": [
       "(167, 10)"
      ]
     },
     "execution_count": 7,
     "metadata": {},
     "output_type": "execute_result"
    }
   ],
   "source": [
    "df.shape"
   ]
  },
  {
   "cell_type": "markdown",
   "id": "41b3e8c5",
   "metadata": {},
   "source": [
    "# Bivariate Analysis"
   ]
  },
  {
   "cell_type": "code",
   "execution_count": 8,
   "id": "2d7d8aa8",
   "metadata": {},
   "outputs": [
    {
     "data": {
      "image/png": "[encoded data removed]",
      "text/plain": [
       "<Figure size 864x504 with 2 Axes>"
      ]
     },
     "metadata": {
      "needs_background": "light"
     },
     "output_type": "display_data"
    }
   ],
   "source": [
    "plt.figure(figsize=(12,7))\n",
    "sns.heatmap(df.corr(), annot=True)\n",
    "plt.show()"
   ]
  },
  {
   "cell_type": "markdown",
   "id": "3b4eb28e",
   "metadata": {},
   "source": [
    "# Optimal number of clusters"
   ]
  },
  {
   "cell_type": "markdown",
   "id": "e6543a54",
   "metadata": {},
   "source": [
    "Silhouette method https://www.analyticsvidhya.com/blog/2021/05/k-mean-getting-the-optimal-number-of-clusters/#:~:text=The%20optimal%20number%20of%20clusters%20k%20is%20one%20that%20maximizes,Optimal%20of%202%20clusters."
   ]
  },
  {
   "cell_type": "code",
   "execution_count": 9,
   "id": "1e1d21f4",
   "metadata": {},
   "outputs": [],
   "source": [
    "range_n_clusters = [i for i in range(2,10)]"
   ]
  },
  {
   "cell_type": "code",
   "execution_count": 10,
   "id": "619c2a4e",
   "metadata": {},
   "outputs": [
    {
     "data": {
      "text/plain": [
       "[2, 3, 4, 5, 6, 7, 8, 9]"
      ]
     },
     "execution_count": 10,
     "metadata": {},
     "output_type": "execute_result"
    }
   ],
   "source": [
    "range_n_clusters"
   ]
  },
  {
   "cell_type": "code",
   "execution_count": 11,
   "id": "aba4b5c4",
   "metadata": {},
   "outputs": [],
   "source": [
    "silhouette_distance = []\n",
    "sum_of_squared_distances = []"
   ]
  },
  {
   "cell_type": "code",
   "execution_count": 12,
   "id": "5d80fcc3",
   "metadata": {},
   "outputs": [],
   "source": [
    "df1 = df.drop('country', axis =1)"
   ]
  },
  {
   "cell_type": "code",
   "execution_count": 13,
   "id": "1de72e0f",
   "metadata": {},
   "outputs": [],
   "source": [
    "for num_cluster in range_n_clusters:\n",
    "    kmeans = KMeans(n_clusters = num_cluster)\n",
    "    kmeans.fit(df1)\n",
    "    cluster_labels = kmeans.labels_\n",
    "    silhouette_distance.append(silhouette_score(df1, cluster_labels))\n",
    "    sum_of_squared_distances.append(kmeans.inertia_)"
   ]
  },
  {
   "cell_type": "code",
   "execution_count": 14,
   "id": "df5626ee",
   "metadata": {},
   "outputs": [
    {
     "data": {
      "image/png": "[encoded data removed]",
      "text/plain": [
       "<Figure size 432x288 with 1 Axes>"
      ]
     },
     "metadata": {
      "needs_background": "light"
     },
     "output_type": "display_data"
    }
   ],
   "source": [
    "plt.plot(range_n_clusters, silhouette_distance,'bx-')\n",
    "plt.xlabel('num_of_clusters')\n",
    "plt.ylabel('silhouette_score')\n",
    "plt.title(\"Silhouette Analysis for Optimal K\")\n",
    "plt.show()"
   ]
  },
  {
   "cell_type": "markdown",
   "id": "79a0738c",
   "metadata": {},
   "source": [
    "WCSS (Within Cluster Sum of squares)"
   ]
  },
  {
   "cell_type": "code",
   "execution_count": 15,
   "id": "7c39fe38",
   "metadata": {},
   "outputs": [
    {
     "data": {
      "image/png": "[encoded data removed]",
      "text/plain": [
       "<Figure size 432x288 with 1 Axes>"
      ]
     },
     "metadata": {
      "needs_background": "light"
     },
     "output_type": "display_data"
    }
   ],
   "source": [
    "plt.plot(range_n_clusters, sum_of_squared_distances,'bx-')\n",
    "plt.xlabel('num_of_clusters')\n",
    "plt.ylabel('WCSS_score')\n",
    "plt.title(\"Within Cluster SS Analysis for Optimal K\")\n",
    "plt.show()"
   ]
  },
  {
   "cell_type": "markdown",
   "id": "5a8e4697",
   "metadata": {},
   "source": [
    "From both silhouette method and wcss method, it is optimal to take number of clusters as k = 3"
   ]
  },
  {
   "cell_type": "markdown",
   "id": "a503d186",
   "metadata": {},
   "source": [
    "# K-Means clustering"
   ]
  },
  {
   "cell_type": "code",
   "execution_count": 16,
   "id": "8c673a2b",
   "metadata": {},
   "outputs": [
    {
     "data": {
      "text/plain": [
       "KMeans(n_clusters=3)"
      ]
     },
     "execution_count": 16,
     "metadata": {},
     "output_type": "execute_result"
    }
   ],
   "source": [
    "kmeans = KMeans(n_clusters = 3)\n",
    "kmeans.fit(df1)"
   ]
  },
  {
   "cell_type": "code",
   "execution_count": 17,
   "id": "5eea8382",
   "metadata": {},
   "outputs": [
    {
     "data": {
      "text/plain": [
       "array([1, 1, 1, 1, 1, 1, 1, 0, 0, 1, 0, 0, 1, 1, 1, 0, 1, 1, 1, 1, 1, 1,\n",
       "       1, 2, 1, 1, 1, 1, 1, 0, 1, 1, 1, 1, 1, 1, 1, 1, 1, 1, 1, 1, 0, 0,\n",
       "       0, 1, 1, 1, 1, 0, 1, 1, 1, 0, 0, 1, 1, 1, 0, 1, 0, 1, 1, 1, 1, 1,\n",
       "       1, 1, 0, 1, 1, 1, 1, 0, 0, 0, 1, 0, 1, 1, 1, 1, 2, 1, 1, 1, 1, 1,\n",
       "       1, 1, 1, 2, 1, 1, 1, 1, 1, 1, 0, 1, 1, 1, 1, 1, 1, 1, 1, 1, 1, 1,\n",
       "       0, 0, 1, 1, 2, 0, 1, 1, 1, 1, 1, 1, 0, 2, 1, 1, 1, 1, 0, 1, 1, 1,\n",
       "       1, 2, 1, 0, 1, 1, 0, 0, 1, 1, 1, 1, 0, 2, 1, 1, 1, 1, 1, 1, 1, 1,\n",
       "       1, 1, 1, 0, 0, 0, 1, 1, 1, 1, 1, 1, 1], dtype=int32)"
      ]
     },
     "execution_count": 17,
     "metadata": {},
     "output_type": "execute_result"
    }
   ],
   "source": [
    "kmeans.labels_"
   ]
  },
  {
   "cell_type": "code",
   "execution_count": 18,
   "id": "33a2fa63",
   "metadata": {},
   "outputs": [],
   "source": [
    "df['label'] = kmeans.labels_"
   ]
  },
  {
   "cell_type": "code",
   "execution_count": 19,
   "id": "edf2a6d7",
   "metadata": {},
   "outputs": [
    {
     "data": {
      "image/png": "[encoded data removed]",
      "text/plain": [
       "<Figure size 864x504 with 1 Axes>"
      ]
     },
     "metadata": {
      "needs_background": "light"
     },
     "output_type": "display_data"
    }
   ],
   "source": [
    "plt.figure(figsize = (12,7))\n",
    "df['label'].value_counts().plot.bar()\n",
    "plt.title('Cluster_count')\n",
    "plt.show()"
   ]
  },
  {
   "cell_type": "code",
   "execution_count": 20,
   "id": "d2a2a99d",
   "metadata": {},
   "outputs": [
    {
     "data": {
      "text/html": [
       "<div>\n",
       "<style scoped>\n",
       "    .dataframe tbody tr th:only-of-type {\n",
       "        vertical-align: middle;\n",
       "    }\n",
       "\n",
       "    .dataframe tbody tr th {\n",
       "        vertical-align: top;\n",
       "    }\n",
       "\n",
       "    .dataframe thead th {\n",
       "        text-align: right;\n",
       "    }\n",
       "</style>\n",
       "<table border=\"1\" class=\"dataframe\">\n",
       "  <thead>\n",
       "    <tr style=\"text-align: right;\">\n",
       "      <th></th>\n",
       "      <th>child_mort</th>\n",
       "      <th>exports</th>\n",
       "      <th>health</th>\n",
       "      <th>imports</th>\n",
       "      <th>income</th>\n",
       "      <th>inflation</th>\n",
       "      <th>life_expec</th>\n",
       "      <th>total_fer</th>\n",
       "      <th>gdpp</th>\n",
       "      <th>label</th>\n",
       "    </tr>\n",
       "  </thead>\n",
       "  <tbody>\n",
       "    <tr>\n",
       "      <th>count</th>\n",
       "      <td>32.000000</td>\n",
       "      <td>32.000000</td>\n",
       "      <td>32.000000</td>\n",
       "      <td>32.000000</td>\n",
       "      <td>32.000000</td>\n",
       "      <td>32.000000</td>\n",
       "      <td>32.00000</td>\n",
       "      <td>32.000000</td>\n",
       "      <td>32.000000</td>\n",
       "      <td>32.0</td>\n",
       "    </tr>\n",
       "    <tr>\n",
       "      <th>mean</th>\n",
       "      <td>8.800000</td>\n",
       "      <td>49.978125</td>\n",
       "      <td>8.991563</td>\n",
       "      <td>46.021875</td>\n",
       "      <td>37621.875000</td>\n",
       "      <td>3.383312</td>\n",
       "      <td>79.15625</td>\n",
       "      <td>1.944687</td>\n",
       "      <td>35587.500000</td>\n",
       "      <td>0.0</td>\n",
       "    </tr>\n",
       "    <tr>\n",
       "      <th>std</th>\n",
       "      <td>18.906715</td>\n",
       "      <td>29.064708</td>\n",
       "      <td>2.972031</td>\n",
       "      <td>25.984024</td>\n",
       "      <td>7646.619931</td>\n",
       "      <td>6.037584</td>\n",
       "      <td>3.97045</td>\n",
       "      <td>0.752132</td>\n",
       "      <td>12060.245276</td>\n",
       "      <td>0.0</td>\n",
       "    </tr>\n",
       "    <tr>\n",
       "      <th>min</th>\n",
       "      <td>2.600000</td>\n",
       "      <td>12.400000</td>\n",
       "      <td>2.770000</td>\n",
       "      <td>13.600000</td>\n",
       "      <td>22900.000000</td>\n",
       "      <td>-3.220000</td>\n",
       "      <td>60.90000</td>\n",
       "      <td>1.230000</td>\n",
       "      <td>17100.000000</td>\n",
       "      <td>0.0</td>\n",
       "    </tr>\n",
       "    <tr>\n",
       "      <th>25%</th>\n",
       "      <td>3.875000</td>\n",
       "      <td>28.875000</td>\n",
       "      <td>7.817500</td>\n",
       "      <td>30.775000</td>\n",
       "      <td>31825.000000</td>\n",
       "      <td>0.570000</td>\n",
       "      <td>79.30000</td>\n",
       "      <td>1.455000</td>\n",
       "      <td>23175.000000</td>\n",
       "      <td>0.0</td>\n",
       "    </tr>\n",
       "    <tr>\n",
       "      <th>50%</th>\n",
       "      <td>4.250000</td>\n",
       "      <td>47.800000</td>\n",
       "      <td>9.450000</td>\n",
       "      <td>40.950000</td>\n",
       "      <td>37850.000000</td>\n",
       "      <td>1.190000</td>\n",
       "      <td>80.20000</td>\n",
       "      <td>1.865000</td>\n",
       "      <td>35400.000000</td>\n",
       "      <td>0.0</td>\n",
       "    </tr>\n",
       "    <tr>\n",
       "      <th>75%</th>\n",
       "      <td>6.350000</td>\n",
       "      <td>65.775000</td>\n",
       "      <td>10.775000</td>\n",
       "      <td>57.850000</td>\n",
       "      <td>42975.000000</td>\n",
       "      <td>3.347500</td>\n",
       "      <td>81.32500</td>\n",
       "      <td>2.035000</td>\n",
       "      <td>46375.000000</td>\n",
       "      <td>0.0</td>\n",
       "    </tr>\n",
       "    <tr>\n",
       "      <th>max</th>\n",
       "      <td>111.000000</td>\n",
       "      <td>153.000000</td>\n",
       "      <td>17.900000</td>\n",
       "      <td>154.000000</td>\n",
       "      <td>57600.000000</td>\n",
       "      <td>24.900000</td>\n",
       "      <td>82.80000</td>\n",
       "      <td>5.210000</td>\n",
       "      <td>58000.000000</td>\n",
       "      <td>0.0</td>\n",
       "    </tr>\n",
       "  </tbody>\n",
       "</table>\n",
       "</div>"
      ],
      "text/plain": [
       "       child_mort     exports     health     imports        income  inflation  \\\n",
       "count   32.000000   32.000000  32.000000   32.000000     32.000000  32.000000   \n",
       "mean     8.800000   49.978125   8.991563   46.021875  37621.875000   3.383312   \n",
       "std     18.906715   29.064708   2.972031   25.984024   7646.619931   6.037584   \n",
       "min      2.600000   12.400000   2.770000   13.600000  22900.000000  -3.220000   \n",
       "25%      3.875000   28.875000   7.817500   30.775000  31825.000000   0.570000   \n",
       "50%      4.250000   47.800000   9.450000   40.950000  37850.000000   1.190000   \n",
       "75%      6.350000   65.775000  10.775000   57.850000  42975.000000   3.347500   \n",
       "max    111.000000  153.000000  17.900000  154.000000  57600.000000  24.900000   \n",
       "\n",
       "       life_expec  total_fer          gdpp  label  \n",
       "count    32.00000  32.000000     32.000000   32.0  \n",
       "mean     79.15625   1.944687  35587.500000    0.0  \n",
       "std       3.97045   0.752132  12060.245276    0.0  \n",
       "min      60.90000   1.230000  17100.000000    0.0  \n",
       "25%      79.30000   1.455000  23175.000000    0.0  \n",
       "50%      80.20000   1.865000  35400.000000    0.0  \n",
       "75%      81.32500   2.035000  46375.000000    0.0  \n",
       "max      82.80000   5.210000  58000.000000    0.0  "
      ]
     },
     "execution_count": 20,
     "metadata": {},
     "output_type": "execute_result"
    }
   ],
   "source": [
    "df[df['label'] == 0].describe()"
   ]
  },
  {
   "cell_type": "code",
   "execution_count": 22,
   "id": "48794b0c",
   "metadata": {},
   "outputs": [
    {
     "data": {
      "text/html": [
       "<div>\n",
       "<style scoped>\n",
       "    .dataframe tbody tr th:only-of-type {\n",
       "        vertical-align: middle;\n",
       "    }\n",
       "\n",
       "    .dataframe tbody tr th {\n",
       "        vertical-align: top;\n",
       "    }\n",
       "\n",
       "    .dataframe thead th {\n",
       "        text-align: right;\n",
       "    }\n",
       "</style>\n",
       "<table border=\"1\" class=\"dataframe\">\n",
       "  <thead>\n",
       "    <tr style=\"text-align: right;\">\n",
       "      <th></th>\n",
       "      <th>child_mort</th>\n",
       "      <th>exports</th>\n",
       "      <th>health</th>\n",
       "      <th>imports</th>\n",
       "      <th>income</th>\n",
       "      <th>inflation</th>\n",
       "      <th>life_expec</th>\n",
       "      <th>total_fer</th>\n",
       "      <th>gdpp</th>\n",
       "      <th>label</th>\n",
       "    </tr>\n",
       "  </thead>\n",
       "  <tbody>\n",
       "    <tr>\n",
       "      <th>count</th>\n",
       "      <td>128.000000</td>\n",
       "      <td>128.000000</td>\n",
       "      <td>128.000000</td>\n",
       "      <td>128.000000</td>\n",
       "      <td>128.000000</td>\n",
       "      <td>128.000000</td>\n",
       "      <td>128.000000</td>\n",
       "      <td>128.000000</td>\n",
       "      <td>128.000000</td>\n",
       "      <td>128.0</td>\n",
       "    </tr>\n",
       "    <tr>\n",
       "      <th>mean</th>\n",
       "      <td>47.389844</td>\n",
       "      <td>35.865617</td>\n",
       "      <td>6.332031</td>\n",
       "      <td>45.921609</td>\n",
       "      <td>8569.242188</td>\n",
       "      <td>8.957648</td>\n",
       "      <td>67.873437</td>\n",
       "      <td>3.263359</td>\n",
       "      <td>4438.390625</td>\n",
       "      <td>1.0</td>\n",
       "    </tr>\n",
       "    <tr>\n",
       "      <th>std</th>\n",
       "      <td>40.972276</td>\n",
       "      <td>19.240987</td>\n",
       "      <td>2.348954</td>\n",
       "      <td>19.737419</td>\n",
       "      <td>6833.699409</td>\n",
       "      <td>11.361343</td>\n",
       "      <td>8.259192</td>\n",
       "      <td>1.555788</td>\n",
       "      <td>4100.482425</td>\n",
       "      <td>0.0</td>\n",
       "    </tr>\n",
       "    <tr>\n",
       "      <th>min</th>\n",
       "      <td>4.500000</td>\n",
       "      <td>0.109000</td>\n",
       "      <td>1.970000</td>\n",
       "      <td>0.065900</td>\n",
       "      <td>609.000000</td>\n",
       "      <td>-4.210000</td>\n",
       "      <td>32.100000</td>\n",
       "      <td>1.250000</td>\n",
       "      <td>231.000000</td>\n",
       "      <td>1.0</td>\n",
       "    </tr>\n",
       "    <tr>\n",
       "      <th>25%</th>\n",
       "      <td>16.575000</td>\n",
       "      <td>22.500000</td>\n",
       "      <td>4.855000</td>\n",
       "      <td>30.675000</td>\n",
       "      <td>2470.000000</td>\n",
       "      <td>2.617500</td>\n",
       "      <td>61.775000</td>\n",
       "      <td>2.055000</td>\n",
       "      <td>1030.000000</td>\n",
       "      <td>1.0</td>\n",
       "    </tr>\n",
       "    <tr>\n",
       "      <th>50%</th>\n",
       "      <td>30.750000</td>\n",
       "      <td>31.950000</td>\n",
       "      <td>5.885000</td>\n",
       "      <td>44.000000</td>\n",
       "      <td>6720.000000</td>\n",
       "      <td>6.370000</td>\n",
       "      <td>69.800000</td>\n",
       "      <td>2.665000</td>\n",
       "      <td>3075.000000</td>\n",
       "      <td>1.0</td>\n",
       "    </tr>\n",
       "    <tr>\n",
       "      <th>75%</th>\n",
       "      <td>68.075000</td>\n",
       "      <td>47.925000</td>\n",
       "      <td>7.667500</td>\n",
       "      <td>58.675000</td>\n",
       "      <td>13350.000000</td>\n",
       "      <td>12.100000</td>\n",
       "      <td>74.500000</td>\n",
       "      <td>4.602500</td>\n",
       "      <td>6567.500000</td>\n",
       "      <td>1.0</td>\n",
       "    </tr>\n",
       "    <tr>\n",
       "      <th>max</th>\n",
       "      <td>208.000000</td>\n",
       "      <td>93.800000</td>\n",
       "      <td>14.200000</td>\n",
       "      <td>108.000000</td>\n",
       "      <td>29600.000000</td>\n",
       "      <td>104.000000</td>\n",
       "      <td>80.400000</td>\n",
       "      <td>7.490000</td>\n",
       "      <td>16600.000000</td>\n",
       "      <td>1.0</td>\n",
       "    </tr>\n",
       "  </tbody>\n",
       "</table>\n",
       "</div>"
      ],
      "text/plain": [
       "       child_mort     exports      health     imports        income  \\\n",
       "count  128.000000  128.000000  128.000000  128.000000    128.000000   \n",
       "mean    47.389844   35.865617    6.332031   45.921609   8569.242188   \n",
       "std     40.972276   19.240987    2.348954   19.737419   6833.699409   \n",
       "min      4.500000    0.109000    1.970000    0.065900    609.000000   \n",
       "25%     16.575000   22.500000    4.855000   30.675000   2470.000000   \n",
       "50%     30.750000   31.950000    5.885000   44.000000   6720.000000   \n",
       "75%     68.075000   47.925000    7.667500   58.675000  13350.000000   \n",
       "max    208.000000   93.800000   14.200000  108.000000  29600.000000   \n",
       "\n",
       "        inflation  life_expec   total_fer          gdpp  label  \n",
       "count  128.000000  128.000000  128.000000    128.000000  128.0  \n",
       "mean     8.957648   67.873437    3.263359   4438.390625    1.0  \n",
       "std     11.361343    8.259192    1.555788   4100.482425    0.0  \n",
       "min     -4.210000   32.100000    1.250000    231.000000    1.0  \n",
       "25%      2.617500   61.775000    2.055000   1030.000000    1.0  \n",
       "50%      6.370000   69.800000    2.665000   3075.000000    1.0  \n",
       "75%     12.100000   74.500000    4.602500   6567.500000    1.0  \n",
       "max    104.000000   80.400000    7.490000  16600.000000    1.0  "
      ]
     },
     "execution_count": 22,
     "metadata": {},
     "output_type": "execute_result"
    }
   ],
   "source": [
    "df[df['label'] == 1].describe()"
   ]
  },
  {
   "cell_type": "code",
   "execution_count": 23,
   "id": "a757a211",
   "metadata": {},
   "outputs": [
    {
     "data": {
      "text/html": [
       "<div>\n",
       "<style scoped>\n",
       "    .dataframe tbody tr th:only-of-type {\n",
       "        vertical-align: middle;\n",
       "    }\n",
       "\n",
       "    .dataframe tbody tr th {\n",
       "        vertical-align: top;\n",
       "    }\n",
       "\n",
       "    .dataframe thead th {\n",
       "        text-align: right;\n",
       "    }\n",
       "</style>\n",
       "<table border=\"1\" class=\"dataframe\">\n",
       "  <thead>\n",
       "    <tr style=\"text-align: right;\">\n",
       "      <th></th>\n",
       "      <th>child_mort</th>\n",
       "      <th>exports</th>\n",
       "      <th>health</th>\n",
       "      <th>imports</th>\n",
       "      <th>income</th>\n",
       "      <th>inflation</th>\n",
       "      <th>life_expec</th>\n",
       "      <th>total_fer</th>\n",
       "      <th>gdpp</th>\n",
       "      <th>label</th>\n",
       "    </tr>\n",
       "  </thead>\n",
       "  <tbody>\n",
       "    <tr>\n",
       "      <th>count</th>\n",
       "      <td>7.000000</td>\n",
       "      <td>7.000000</td>\n",
       "      <td>7.000000</td>\n",
       "      <td>7.000000</td>\n",
       "      <td>7.000000</td>\n",
       "      <td>7.000000</td>\n",
       "      <td>7.000000</td>\n",
       "      <td>7.000000</td>\n",
       "      <td>7.000000</td>\n",
       "      <td>7.0</td>\n",
       "    </tr>\n",
       "    <tr>\n",
       "      <th>mean</th>\n",
       "      <td>6.228571</td>\n",
       "      <td>96.442857</td>\n",
       "      <td>5.712857</td>\n",
       "      <td>68.571429</td>\n",
       "      <td>80342.857143</td>\n",
       "      <td>6.388714</td>\n",
       "      <td>80.285714</td>\n",
       "      <td>1.767143</td>\n",
       "      <td>65442.857143</td>\n",
       "      <td>2.0</td>\n",
       "    </tr>\n",
       "    <tr>\n",
       "      <th>std</th>\n",
       "      <td>3.707971</td>\n",
       "      <td>63.326478</td>\n",
       "      <td>3.829194</td>\n",
       "      <td>62.521269</td>\n",
       "      <td>22950.733986</td>\n",
       "      <td>5.999308</td>\n",
       "      <td>2.087605</td>\n",
       "      <td>0.362248</td>\n",
       "      <td>26336.340998</td>\n",
       "      <td>0.0</td>\n",
       "    </tr>\n",
       "    <tr>\n",
       "      <th>min</th>\n",
       "      <td>2.800000</td>\n",
       "      <td>39.700000</td>\n",
       "      <td>1.810000</td>\n",
       "      <td>23.800000</td>\n",
       "      <td>55500.000000</td>\n",
       "      <td>-0.046000</td>\n",
       "      <td>77.100000</td>\n",
       "      <td>1.150000</td>\n",
       "      <td>35300.000000</td>\n",
       "      <td>2.0</td>\n",
       "    </tr>\n",
       "    <tr>\n",
       "      <th>25%</th>\n",
       "      <td>3.000000</td>\n",
       "      <td>63.150000</td>\n",
       "      <td>2.735000</td>\n",
       "      <td>28.250000</td>\n",
       "      <td>67200.000000</td>\n",
       "      <td>1.968500</td>\n",
       "      <td>78.850000</td>\n",
       "      <td>1.575000</td>\n",
       "      <td>42550.000000</td>\n",
       "      <td>2.0</td>\n",
       "    </tr>\n",
       "    <tr>\n",
       "      <th>50%</th>\n",
       "      <td>4.500000</td>\n",
       "      <td>66.700000</td>\n",
       "      <td>3.960000</td>\n",
       "      <td>30.400000</td>\n",
       "      <td>75200.000000</td>\n",
       "      <td>5.950000</td>\n",
       "      <td>81.000000</td>\n",
       "      <td>1.840000</td>\n",
       "      <td>70300.000000</td>\n",
       "      <td>2.0</td>\n",
       "    </tr>\n",
       "    <tr>\n",
       "      <th>75%</th>\n",
       "      <td>9.750000</td>\n",
       "      <td>121.200000</td>\n",
       "      <td>8.625000</td>\n",
       "      <td>97.650000</td>\n",
       "      <td>86150.000000</td>\n",
       "      <td>9.090000</td>\n",
       "      <td>81.750000</td>\n",
       "      <td>2.010000</td>\n",
       "      <td>81200.000000</td>\n",
       "      <td>2.0</td>\n",
       "    </tr>\n",
       "    <tr>\n",
       "      <th>max</th>\n",
       "      <td>10.800000</td>\n",
       "      <td>200.000000</td>\n",
       "      <td>11.500000</td>\n",
       "      <td>174.000000</td>\n",
       "      <td>125000.000000</td>\n",
       "      <td>16.700000</td>\n",
       "      <td>82.700000</td>\n",
       "      <td>2.210000</td>\n",
       "      <td>105000.000000</td>\n",
       "      <td>2.0</td>\n",
       "    </tr>\n",
       "  </tbody>\n",
       "</table>\n",
       "</div>"
      ],
      "text/plain": [
       "       child_mort     exports     health     imports         income  \\\n",
       "count    7.000000    7.000000   7.000000    7.000000       7.000000   \n",
       "mean     6.228571   96.442857   5.712857   68.571429   80342.857143   \n",
       "std      3.707971   63.326478   3.829194   62.521269   22950.733986   \n",
       "min      2.800000   39.700000   1.810000   23.800000   55500.000000   \n",
       "25%      3.000000   63.150000   2.735000   28.250000   67200.000000   \n",
       "50%      4.500000   66.700000   3.960000   30.400000   75200.000000   \n",
       "75%      9.750000  121.200000   8.625000   97.650000   86150.000000   \n",
       "max     10.800000  200.000000  11.500000  174.000000  125000.000000   \n",
       "\n",
       "       inflation  life_expec  total_fer           gdpp  label  \n",
       "count   7.000000    7.000000   7.000000       7.000000    7.0  \n",
       "mean    6.388714   80.285714   1.767143   65442.857143    2.0  \n",
       "std     5.999308    2.087605   0.362248   26336.340998    0.0  \n",
       "min    -0.046000   77.100000   1.150000   35300.000000    2.0  \n",
       "25%     1.968500   78.850000   1.575000   42550.000000    2.0  \n",
       "50%     5.950000   81.000000   1.840000   70300.000000    2.0  \n",
       "75%     9.090000   81.750000   2.010000   81200.000000    2.0  \n",
       "max    16.700000   82.700000   2.210000  105000.000000    2.0  "
      ]
     },
     "execution_count": 23,
     "metadata": {},
     "output_type": "execute_result"
    }
   ],
   "source": [
    "df[df['label'] == 2].describe()"
   ]
  },
  {
   "cell_type": "markdown",
   "id": "7d3afac4",
   "metadata": {},
   "source": [
    "# Summary"
   ]
  },
  {
   "cell_type": "markdown",
   "id": "23143f78",
   "metadata": {},
   "source": [
    "From the stats obtained above for each clusters, we can say that:\n",
    "- Allocation of fund needs to be concentrated towards country in CLuster 1, as their socio economic and health situation is bad as compared to countries in other clusters \n",
    "- Countries in cluster 2 seems to be rich countires with the socio economic and health status being the best among all clusters"
   ]
  },
  {
   "cell_type": "code",
   "execution_count": null,
   "id": "94c6d649",
   "metadata": {},
   "outputs": [],
   "source": []
  }
 ],
 "metadata": {
  "kernelspec": {
   "display_name": "Python 3",
   "language": "python",
   "name": "python3"
  },
  "language_info": {
   "codemirror_mode": {
    "name": "ipython",
    "version": 3
   },
   "file_extension": ".py",
   "mimetype": "text/x-python",
   "name": "python",
   "nbconvert_exporter": "python",
   "pygments_lexer": "ipython3",
   "version": "3.8.8"
  }
 },
 "nbformat": 4,
 "nbformat_minor": 5
}
