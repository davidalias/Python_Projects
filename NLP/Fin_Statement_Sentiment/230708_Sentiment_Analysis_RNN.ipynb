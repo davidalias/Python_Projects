{
 "cells": [
  {
   "cell_type": "markdown",
   "id": "a2e7498a",
   "metadata": {},
   "source": [
    "https://www.analyticsvidhya.com/blog/2022/07/sentiment-analysis-using-python/"
   ]
  },
  {
   "cell_type": "code",
   "execution_count": 1,
   "id": "d3f49723",
   "metadata": {},
   "outputs": [],
   "source": [
    "import pandas as pd\n",
    "import nltk\n",
    "from nltk.stem import PorterStemmer\n",
    "import re\n",
    "from textblob import Word #for lemmatization\n",
    "from nltk.corpus import stopwords\n",
    "from sklearn.preprocessing import LabelEncoder\n",
    "from sklearn.model_selection import train_test_split "
   ]
  },
  {
   "cell_type": "code",
   "execution_count": 2,
   "id": "4ed714f1",
   "metadata": {},
   "outputs": [],
   "source": [
    "import tensorflow as tf\n",
    "from tensorflow.keras.utils import to_categorical\n",
    "from keras.preprocessing.text import Tokenizer\n",
    "from keras.preprocessing.sequence import pad_sequences\n",
    "from keras.layers import Dense, Embedding, LSTM, SpatialDropout1D"
   ]
  },
  {
   "cell_type": "code",
   "execution_count": 3,
   "id": "55726958",
   "metadata": {},
   "outputs": [],
   "source": [
    "df = pd.read_csv('data.csv')"
   ]
  },
  {
   "cell_type": "code",
   "execution_count": 4,
   "id": "505de03c",
   "metadata": {},
   "outputs": [
    {
     "data": {
      "text/html": [
       "<div>\n",
       "<style scoped>\n",
       "    .dataframe tbody tr th:only-of-type {\n",
       "        vertical-align: middle;\n",
       "    }\n",
       "\n",
       "    .dataframe tbody tr th {\n",
       "        vertical-align: top;\n",
       "    }\n",
       "\n",
       "    .dataframe thead th {\n",
       "        text-align: right;\n",
       "    }\n",
       "</style>\n",
       "<table border=\"1\" class=\"dataframe\">\n",
       "  <thead>\n",
       "    <tr style=\"text-align: right;\">\n",
       "      <th></th>\n",
       "      <th>Sentence</th>\n",
       "      <th>Sentiment</th>\n",
       "    </tr>\n",
       "  </thead>\n",
       "  <tbody>\n",
       "    <tr>\n",
       "      <th>0</th>\n",
       "      <td>The GeoSolutions technology will leverage Bene...</td>\n",
       "      <td>positive</td>\n",
       "    </tr>\n",
       "    <tr>\n",
       "      <th>1</th>\n",
       "      <td>$ESI on lows, down $1.50 to $2.50 BK a real po...</td>\n",
       "      <td>negative</td>\n",
       "    </tr>\n",
       "    <tr>\n",
       "      <th>2</th>\n",
       "      <td>For the last quarter of 2010 , Componenta 's n...</td>\n",
       "      <td>positive</td>\n",
       "    </tr>\n",
       "    <tr>\n",
       "      <th>3</th>\n",
       "      <td>According to the Finnish-Russian Chamber of Co...</td>\n",
       "      <td>neutral</td>\n",
       "    </tr>\n",
       "    <tr>\n",
       "      <th>4</th>\n",
       "      <td>The Swedish buyout firm has sold its remaining...</td>\n",
       "      <td>neutral</td>\n",
       "    </tr>\n",
       "  </tbody>\n",
       "</table>\n",
       "</div>"
      ],
      "text/plain": [
       "                                            Sentence Sentiment\n",
       "0  The GeoSolutions technology will leverage Bene...  positive\n",
       "1  $ESI on lows, down $1.50 to $2.50 BK a real po...  negative\n",
       "2  For the last quarter of 2010 , Componenta 's n...  positive\n",
       "3  According to the Finnish-Russian Chamber of Co...   neutral\n",
       "4  The Swedish buyout firm has sold its remaining...   neutral"
      ]
     },
     "execution_count": 4,
     "metadata": {},
     "output_type": "execute_result"
    }
   ],
   "source": [
    "df.head()"
   ]
  },
  {
   "cell_type": "code",
   "execution_count": 5,
   "id": "22211503",
   "metadata": {},
   "outputs": [],
   "source": [
    "encoder = LabelEncoder()\n",
    "df['Sentiment']=encoder.fit_transform(df['Sentiment'])"
   ]
  },
  {
   "cell_type": "code",
   "execution_count": 6,
   "id": "ed42a793",
   "metadata": {},
   "outputs": [
    {
     "data": {
      "text/plain": [
       "<AxesSubplot:>"
      ]
     },
     "execution_count": 6,
     "metadata": {},
     "output_type": "execute_result"
    },
    {
     "data": {
      "image/png": "[encoded data removed]",
      "text/plain": [
       "<Figure size 432x288 with 1 Axes>"
      ]
     },
     "metadata": {
      "needs_background": "light"
     },
     "output_type": "display_data"
    }
   ],
   "source": [
    "df['Sentiment'].value_counts().plot.bar()"
   ]
  },
  {
   "cell_type": "markdown",
   "id": "6aa1233a",
   "metadata": {},
   "source": [
    "# Preprocessing"
   ]
  },
  {
   "cell_type": "markdown",
   "id": "8ac9d0b2",
   "metadata": {},
   "source": [
    "https://bobbyhadz.com/blog/python-remove-non-alphanumeric-characters-from-string"
   ]
  },
  {
   "cell_type": "code",
   "execution_count": 7,
   "id": "6daf71ce",
   "metadata": {},
   "outputs": [],
   "source": [
    "def cleaning(df, stop_words):\n",
    "    #text to lowercase\n",
    "    df['Sentence'] = df['Sentence'].apply(lambda x: ' '.join(x.lower() for x in x.split()))\n",
    "    # Replacing the digits/numbers/non-alphanumeric characters\n",
    "    df['Sentence'] = df['Sentence'].apply(lambda x: re.sub(r'[^A-Za-z\\s]', '', x))\n",
    "    # Removing stop words\n",
    "    df['Sentence'] = df['Sentence'].apply(lambda x: ' '.join(x for x in x.split() if x not in stop_words))\n",
    "    # Stemming\n",
    "    stemmer = PorterStemmer()\n",
    "    df['Sentence'] = df['Sentence'].apply(lambda x: ' '.join([stemmer.stem(x) for x in x.split()]))\n",
    "    return df"
   ]
  },
  {
   "cell_type": "markdown",
   "id": "efb5b8ab",
   "metadata": {},
   "source": [
    "https://www.projectpro.io/recipes/add-custom-stopwords-and-then-remove-them-from-text "
   ]
  },
  {
   "cell_type": "code",
   "execution_count": 8,
   "id": "65bd42f3",
   "metadata": {},
   "outputs": [],
   "source": [
    "stop_words = stopwords.words('english')\n",
    "new_stopwords = [\"company\"]\n",
    "stop_words.extend(new_stopwords)\n",
    "data_cleaned = cleaning(df, stop_words)"
   ]
  },
  {
   "cell_type": "code",
   "execution_count": 9,
   "id": "2837f988",
   "metadata": {},
   "outputs": [
    {
     "data": {
      "text/html": [
       "<div>\n",
       "<style scoped>\n",
       "    .dataframe tbody tr th:only-of-type {\n",
       "        vertical-align: middle;\n",
       "    }\n",
       "\n",
       "    .dataframe tbody tr th {\n",
       "        vertical-align: top;\n",
       "    }\n",
       "\n",
       "    .dataframe thead th {\n",
       "        text-align: right;\n",
       "    }\n",
       "</style>\n",
       "<table border=\"1\" class=\"dataframe\">\n",
       "  <thead>\n",
       "    <tr style=\"text-align: right;\">\n",
       "      <th></th>\n",
       "      <th>Sentence</th>\n",
       "      <th>Sentiment</th>\n",
       "    </tr>\n",
       "  </thead>\n",
       "  <tbody>\n",
       "    <tr>\n",
       "      <th>0</th>\n",
       "      <td>geosolut technolog leverag benefon gp solut pr...</td>\n",
       "      <td>2</td>\n",
       "    </tr>\n",
       "    <tr>\n",
       "      <th>1</th>\n",
       "      <td>esi low bk real possibl</td>\n",
       "      <td>0</td>\n",
       "    </tr>\n",
       "    <tr>\n",
       "      <th>2</th>\n",
       "      <td>last quarter componenta net sale doubl eurm eu...</td>\n",
       "      <td>2</td>\n",
       "    </tr>\n",
       "    <tr>\n",
       "      <th>3</th>\n",
       "      <td>accord finnishrussian chamber commerc major co...</td>\n",
       "      <td>1</td>\n",
       "    </tr>\n",
       "    <tr>\n",
       "      <th>4</th>\n",
       "      <td>swedish buyout firm sold remain percent stake ...</td>\n",
       "      <td>1</td>\n",
       "    </tr>\n",
       "  </tbody>\n",
       "</table>\n",
       "</div>"
      ],
      "text/plain": [
       "                                            Sentence  Sentiment\n",
       "0  geosolut technolog leverag benefon gp solut pr...          2\n",
       "1                            esi low bk real possibl          0\n",
       "2  last quarter componenta net sale doubl eurm eu...          2\n",
       "3  accord finnishrussian chamber commerc major co...          1\n",
       "4  swedish buyout firm sold remain percent stake ...          1"
      ]
     },
     "execution_count": 9,
     "metadata": {},
     "output_type": "execute_result"
    }
   ],
   "source": [
    "data_cleaned.head()"
   ]
  },
  {
   "cell_type": "code",
   "execution_count": 10,
   "id": "e5f31db9",
   "metadata": {},
   "outputs": [
    {
     "data": {
      "text/plain": [
       "Sentence     object\n",
       "Sentiment     int64\n",
       "dtype: object"
      ]
     },
     "execution_count": 10,
     "metadata": {},
     "output_type": "execute_result"
    }
   ],
   "source": [
    "data_cleaned.dtypes"
   ]
  },
  {
   "cell_type": "markdown",
   "id": "4b99052a",
   "metadata": {},
   "source": [
    "# Word Embedding"
   ]
  },
  {
   "cell_type": "code",
   "execution_count": 11,
   "id": "f61f21ca",
   "metadata": {},
   "outputs": [],
   "source": [
    "tokenizer = Tokenizer(num_words = 500, split = ' ') #by default, this tokenizer converts text to lowercase\n",
    "tokenizer.fit_on_texts(data_cleaned['Sentence'].values) #to pass as an array using 'values'\n",
    "X = tokenizer.texts_to_sequences(data_cleaned['Sentence'].values)"
   ]
  },
  {
   "cell_type": "code",
   "execution_count": 12,
   "id": "4f312e71",
   "metadata": {},
   "outputs": [
    {
     "data": {
      "text/plain": [
       "5842"
      ]
     },
     "execution_count": 12,
     "metadata": {},
     "output_type": "execute_result"
    }
   ],
   "source": [
    "len(X)"
   ]
  },
  {
   "cell_type": "code",
   "execution_count": 13,
   "id": "333df60b",
   "metadata": {},
   "outputs": [],
   "source": [
    "X = pad_sequences(X) #here, sequences will be padded to the length of the longest individual sequence\n",
    "#by default, pre padding is done"
   ]
  },
  {
   "cell_type": "code",
   "execution_count": 14,
   "id": "03b5b2cd",
   "metadata": {},
   "outputs": [
    {
     "data": {
      "text/plain": [
       "array([[  0,   0,   0, ..., 222, 392, 248],\n",
       "       [  0,   0,   0, ...,   0, 310, 360],\n",
       "       [  0,   0,   0, ..., 193,  26,  79],\n",
       "       ...,\n",
       "       [  0,   0,   0, ..., 108, 307,  55],\n",
       "       [  0,   0,   0, ...,  48,   1,   2],\n",
       "       [  0,   0,   0, ..., 197, 183, 188]], dtype=int32)"
      ]
     },
     "execution_count": 14,
     "metadata": {},
     "output_type": "execute_result"
    }
   ],
   "source": [
    "X"
   ]
  },
  {
   "cell_type": "markdown",
   "id": "9afdecf2",
   "metadata": {},
   "source": [
    "# Model Building"
   ]
  },
  {
   "cell_type": "code",
   "execution_count": 15,
   "id": "435ef760",
   "metadata": {},
   "outputs": [],
   "source": [
    "X_train, X_test, y_train, y_test = train_test_split(X, data_cleaned['Sentiment'], test_size=0.20, random_state=42)"
   ]
  },
  {
   "cell_type": "code",
   "execution_count": 16,
   "id": "4b49521a",
   "metadata": {},
   "outputs": [],
   "source": [
    "num_classes = 3"
   ]
  },
  {
   "cell_type": "code",
   "execution_count": 17,
   "id": "a36387b3",
   "metadata": {},
   "outputs": [],
   "source": [
    "y_train = to_categorical(y_train, num_classes)\n",
    "y_test = to_categorical(y_test, num_classes)"
   ]
  },
  {
   "cell_type": "code",
   "execution_count": 18,
   "id": "a4702aa9",
   "metadata": {},
   "outputs": [],
   "source": [
    "Vocab_size = 500"
   ]
  },
  {
   "cell_type": "markdown",
   "id": "1f531908",
   "metadata": {},
   "source": [
    "- https://www.tensorflow.org/api_docs/python/tf/keras/Sequential\n",
    "- https://www.tensorflow.org/api_docs/python/tf/keras/layers/Embedding\n",
    "- https://www.tensorflow.org/api_docs/python/tf/keras/layers/LSTM"
   ]
  },
  {
   "cell_type": "code",
   "execution_count": 19,
   "id": "8005241d",
   "metadata": {},
   "outputs": [],
   "source": [
    "model = tf.keras.Sequential()\n",
    "model.add(Embedding(Vocab_size, 120))#120 is the output dimension\n",
    "model.add(LSTM(704))#704 dimensional output for each word given as input\n",
    "model.add(Dense(3, activation='softmax'))"
   ]
  },
  {
   "cell_type": "code",
   "execution_count": 20,
   "id": "ec17e43a",
   "metadata": {},
   "outputs": [
    {
     "name": "stdout",
     "output_type": "stream",
     "text": [
      "Model: \"sequential\"\n",
      "_________________________________________________________________\n",
      "Layer (type)                 Output Shape              Param #   \n",
      "=================================================================\n",
      "embedding (Embedding)        (None, None, 120)         60000     \n",
      "_________________________________________________________________\n",
      "lstm (LSTM)                  (None, 704)               2323200   \n",
      "_________________________________________________________________\n",
      "dense (Dense)                (None, 3)                 2115      \n",
      "=================================================================\n",
      "Total params: 2,385,315\n",
      "Trainable params: 2,385,315\n",
      "Non-trainable params: 0\n",
      "_________________________________________________________________\n"
     ]
    }
   ],
   "source": [
    "model.summary()"
   ]
  },
  {
   "cell_type": "code",
   "execution_count": 21,
   "id": "4b567c6c",
   "metadata": {},
   "outputs": [],
   "source": [
    "model.compile(loss = 'categorical_crossentropy', optimizer = 'adam', metrics = ['accuracy'])"
   ]
  },
  {
   "cell_type": "code",
   "execution_count": 22,
   "id": "74a1da57",
   "metadata": {},
   "outputs": [
    {
     "name": "stdout",
     "output_type": "stream",
     "text": [
      "Epoch 1/15\n",
      "147/147 [==============================] - 67s 438ms/step - loss: 0.9265 - accuracy: 0.5786\n",
      "Epoch 2/15\n",
      "147/147 [==============================] - 83s 563ms/step - loss: 0.7189 - accuracy: 0.6837\n",
      "Epoch 3/15\n",
      "147/147 [==============================] - 64s 435ms/step - loss: 0.6619 - accuracy: 0.7124\n",
      "Epoch 4/15\n",
      "147/147 [==============================] - 61s 413ms/step - loss: 0.6260 - accuracy: 0.7210\n",
      "Epoch 5/15\n",
      "147/147 [==============================] - 61s 414ms/step - loss: 0.5889 - accuracy: 0.7323\n",
      "Epoch 6/15\n",
      "147/147 [==============================] - 62s 423ms/step - loss: 0.5693 - accuracy: 0.7468\n",
      "Epoch 7/15\n",
      "147/147 [==============================] - 62s 421ms/step - loss: 0.5381 - accuracy: 0.7586\n",
      "Epoch 8/15\n",
      "147/147 [==============================] - 70s 476ms/step - loss: 0.5068 - accuracy: 0.7665\n",
      "Epoch 9/15\n",
      "147/147 [==============================] - 64s 435ms/step - loss: 0.4856 - accuracy: 0.7759\n",
      "Epoch 10/15\n",
      "147/147 [==============================] - 65s 443ms/step - loss: 0.4600 - accuracy: 0.7822\n",
      "Epoch 11/15\n",
      "147/147 [==============================] - 71s 484ms/step - loss: 0.4382 - accuracy: 0.7946\n",
      "Epoch 12/15\n",
      "147/147 [==============================] - 79s 538ms/step - loss: 0.4101 - accuracy: 0.8023\n",
      "Epoch 13/15\n",
      "147/147 [==============================] - 80s 544ms/step - loss: 0.3946 - accuracy: 0.8104\n",
      "Epoch 14/15\n",
      "147/147 [==============================] - 88s 601ms/step - loss: 0.3904 - accuracy: 0.8162\n",
      "Epoch 15/15\n",
      "147/147 [==============================] - 82s 555ms/step - loss: 0.3602 - accuracy: 0.8232\n"
     ]
    },
    {
     "data": {
      "text/plain": [
       "<keras.callbacks.History at 0x14bed2880>"
      ]
     },
     "execution_count": 22,
     "metadata": {},
     "output_type": "execute_result"
    }
   ],
   "source": [
    "model.fit(X_train, y_train, epochs = 15, batch_size=32)"
   ]
  },
  {
   "cell_type": "code",
   "execution_count": 23,
   "id": "6a696c4f",
   "metadata": {},
   "outputs": [
    {
     "name": "stdout",
     "output_type": "stream",
     "text": [
      "37/37 [==============================] - 7s 168ms/step - loss: 1.2530 - accuracy: 0.6724\n"
     ]
    },
    {
     "data": {
      "text/plain": [
       "[1.252974033355713, 0.6723695397377014]"
      ]
     },
     "execution_count": 23,
     "metadata": {},
     "output_type": "execute_result"
    }
   ],
   "source": [
    "model.evaluate(X_test,y_test)"
   ]
  },
  {
   "cell_type": "markdown",
   "id": "2ed5e465",
   "metadata": {},
   "source": [
    "While optimization, we use a function to evaluate the weights and try to minimize the error. This objective function is our loss function and the evaluation score calculated by this loss function is called loss"
   ]
  }
 ],
 "metadata": {
  "kernelspec": {
   "display_name": "Python 3",
   "language": "python",
   "name": "python3"
  },
  "language_info": {
   "codemirror_mode": {
    "name": "ipython",
    "version": 3
   },
   "file_extension": ".py",
   "mimetype": "text/x-python",
   "name": "python",
   "nbconvert_exporter": "python",
   "pygments_lexer": "ipython3",
   "version": "3.8.8"
  }
 },
 "nbformat": 4,
 "nbformat_minor": 5
}
