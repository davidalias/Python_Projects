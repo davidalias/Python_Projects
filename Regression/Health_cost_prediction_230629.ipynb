{
 "cells": [
  {
   "cell_type": "markdown",
   "id": "659f1009",
   "metadata": {},
   "source": [
    "Dataset is downloaded from the below link:\n",
    "\n",
    "https://colab.research.google.com/github/freeCodeCamp/boilerplate-linear-regression-health-costs-calculator/blob/master/fcc_predict_health_costs_with_regression.ipynb#scrollTo=CiX2FI4gZtTt"
   ]
  },
  {
   "cell_type": "code",
   "execution_count": null,
   "id": "bb7408c3",
   "metadata": {},
   "outputs": [],
   "source": []
  }
 ],
 "metadata": {
  "kernelspec": {
   "display_name": "Python 3",
   "language": "python",
   "name": "python3"
  },
  "language_info": {
   "codemirror_mode": {
    "name": "ipython",
    "version": 3
   },
   "file_extension": ".py",
   "mimetype": "text/x-python",
   "name": "python",
   "nbconvert_exporter": "python",
   "pygments_lexer": "ipython3",
   "version": "3.8.8"
  }
 },
 "nbformat": 4,
 "nbformat_minor": 5
}
